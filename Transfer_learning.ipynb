{
 "cells": [
  {
   "cell_type": "code",
   "execution_count": 1,
   "id": "c9bbe9b8-b842-4595-9bb9-87404771b885",
   "metadata": {},
   "outputs": [
    {
     "name": "stderr",
     "output_type": "stream",
     "text": [
      "2025-04-16 18:09:50.664454: I external/local_tsl/tsl/cuda/cudart_stub.cc:31] Could not find cuda drivers on your machine, GPU will not be used.\n",
      "2025-04-16 18:09:51.040592: E external/local_xla/xla/stream_executor/cuda/cuda_dnn.cc:9261] Unable to register cuDNN factory: Attempting to register factory for plugin cuDNN when one has already been registered\n",
      "2025-04-16 18:09:51.040678: E external/local_xla/xla/stream_executor/cuda/cuda_fft.cc:607] Unable to register cuFFT factory: Attempting to register factory for plugin cuFFT when one has already been registered\n",
      "2025-04-16 18:09:51.116108: E external/local_xla/xla/stream_executor/cuda/cuda_blas.cc:1515] Unable to register cuBLAS factory: Attempting to register factory for plugin cuBLAS when one has already been registered\n",
      "2025-04-16 18:09:51.279009: I external/local_tsl/tsl/cuda/cudart_stub.cc:31] Could not find cuda drivers on your machine, GPU will not be used.\n",
      "2025-04-16 18:09:51.281893: I tensorflow/core/platform/cpu_feature_guard.cc:182] This TensorFlow binary is optimized to use available CPU instructions in performance-critical operations.\n",
      "To enable the following instructions: AVX2 FMA, in other operations, rebuild TensorFlow with the appropriate compiler flags.\n",
      "2025-04-16 18:09:52.805638: W tensorflow/compiler/tf2tensorrt/utils/py_utils.cc:38] TF-TRT Warning: Could not find TensorRT\n"
     ]
    }
   ],
   "source": [
    "import matplotlib.pyplot as plt\n",
    "import numpy as np\n",
    "import PIL\n",
    "import cv2\n",
    "import os\n",
    "os.environ[\"CUDA_VISIBLE_DEVICES\"] = \"-1\"\n",
    "import tensorflow as tf\n",
    "import tensorflow_hub as hub\n",
    "\n",
    "from tensorflow import keras\n",
    "from keras import layers\n",
    "from keras.models import Sequential"
   ]
  },
  {
   "cell_type": "code",
   "execution_count": 2,
   "id": "523746ba-c1e3-4051-b8dd-09c3e815e666",
   "metadata": {},
   "outputs": [],
   "source": [
    "dataset_url = \"http://storage.googleapis.com/download.tensorflow.org/example_images/flower_photos.tgz\"\n",
    "data_dir=keras.utils.get_file('flower_photos',origin=dataset_url, cache_dir='.',untar=True)"
   ]
  },
  {
   "cell_type": "code",
   "execution_count": 3,
   "id": "a29d058e-6f28-4c22-bf7d-ce14feb76815",
   "metadata": {},
   "outputs": [],
   "source": [
    "import pathlib\n",
    "data_dir=pathlib.Path(data_dir)"
   ]
  },
  {
   "cell_type": "code",
   "execution_count": 4,
   "id": "504c1508-4561-4e9c-9fe2-568c246fcabf",
   "metadata": {},
   "outputs": [],
   "source": [
    "flowers_images_dict={\n",
    "    'roses':list(data_dir.glob('roses/*.jpg')),\n",
    "    'dandelion':list(data_dir.glob('dandelion/*.jpg')),\n",
    "    'daisy':list(data_dir.glob('daisy/*.jpg')),\n",
    "    'sunflowers':list(data_dir.glob('sunflowers/*.jpg')),\n",
    "    'tulips':list(data_dir.glob('tulips/*.jpg')),\n",
    "}"
   ]
  },
  {
   "cell_type": "code",
   "execution_count": 5,
   "id": "c8584c2a-9df6-47ea-a6f7-ad30ab4cd371",
   "metadata": {},
   "outputs": [],
   "source": [
    "flowers_labels_dict={\n",
    "    'roses':0,\n",
    "    'dandelion':1,\n",
    "    'daisy':2,\n",
    "    'sunflowers':3,\n",
    "    'tulips':4,\n",
    "}"
   ]
  },
  {
   "cell_type": "code",
   "execution_count": 6,
   "id": "bbd7922d-2c68-470e-bffd-c503218396be",
   "metadata": {},
   "outputs": [],
   "source": [
    "X,Y = [],[]\n",
    "for flower_name,images in flowers_images_dict.items():\n",
    "    for image in images:\n",
    "        img =cv2.imread(str(image))\n",
    "        resized_img=cv2.resize(img,(224,224))\n",
    "        X.append(resized_img)\n",
    "        Y.append(flowers_labels_dict[flower_name])"
   ]
  },
  {
   "cell_type": "code",
   "execution_count": 7,
   "id": "3b5050d6-96c4-4c1e-840d-a6dac22dff21",
   "metadata": {},
   "outputs": [],
   "source": [
    "X=np.array(X)\n",
    "Y=np.array(Y)"
   ]
  },
  {
   "cell_type": "code",
   "execution_count": 8,
   "id": "5cd4c7ee-b6d4-46a2-9fc9-b4ee35e7dcc8",
   "metadata": {},
   "outputs": [],
   "source": [
    "from sklearn.model_selection import train_test_split\n",
    "X_train,X_test,Y_train,Y_test=train_test_split(X,Y,random_state=0)"
   ]
  },
  {
   "cell_type": "code",
   "execution_count": 9,
   "id": "627288eb-7913-4253-8f99-5b1599ccdccd",
   "metadata": {},
   "outputs": [],
   "source": [
    "# Replace X_train_scaled = X_train/255 with:\n",
    "X_train_scaled = (X_train / 127.5) - 1.0  # Scale to [-1, 1]\n",
    "X_test_scaled = (X_test / 127.5) - 1.0"
   ]
  },
  {
   "cell_type": "code",
   "execution_count": 10,
   "id": "8d6fe5a4-aa97-41da-a5f5-ff95a3874b6e",
   "metadata": {},
   "outputs": [],
   "source": [
    "feature_extractor='https://tfhub.dev/google/tf2-preview/mobilenet_v2/feature_vector/2'\n",
    "pre_trained_model=hub.KerasLayer(feature_extractor, trainable=False)"
   ]
  },
  {
   "cell_type": "code",
   "execution_count": 11,
   "id": "b5482693-1d7e-4a47-afdb-0b343ee29105",
   "metadata": {},
   "outputs": [],
   "source": [
    "data_augmentation = Sequential([\n",
    "    layers.RandomFlip(\"horizontal\",input_shape=(224, 224, 3)),\n",
    "    layers.RandomRotation(0.1),\n",
    "    layers.RandomZoom(0.1)\n",
    "    \n",
    "])"
   ]
  },
  {
   "cell_type": "code",
   "execution_count": 11,
   "id": "1b0091e8-87d9-40a4-91d4-7eaea407b793",
   "metadata": {},
   "outputs": [],
   "source": [
    "num_classes=5\n",
    "model = Sequential([\n",
    "    layers.Input((224,224,3)),\n",
    "    #data_augmentation, dosn't need it\n",
    "    pre_trained_model,\n",
    "    layers.Dense(num_classes, activation='softmax')  # Add softmax\n",
    "])"
   ]
  },
  {
   "cell_type": "code",
   "execution_count": 12,
   "id": "63d552b7-d244-4003-a302-04ca5cfc20f9",
   "metadata": {},
   "outputs": [],
   "source": [
    "model.compile(loss= 'sparse_categorical_crossentropy',optimizer='adam', metrics=['accuracy'])"
   ]
  },
  {
   "cell_type": "code",
   "execution_count": 13,
   "id": "69cc72e2-ff0c-4d97-9de9-07739d4441a7",
   "metadata": {},
   "outputs": [
    {
     "name": "stderr",
     "output_type": "stream",
     "text": [
      "2025-04-16 18:14:21.943068: W external/local_tsl/tsl/framework/cpu_allocator_impl.cc:83] Allocation of 1657012224 exceeds 10% of free system memory.\n"
     ]
    },
    {
     "name": "stdout",
     "output_type": "stream",
     "text": [
      "Epoch 1/10\n"
     ]
    },
    {
     "name": "stderr",
     "output_type": "stream",
     "text": [
      "2025-04-16 18:14:48.129186: W external/local_tsl/tsl/framework/cpu_allocator_impl.cc:83] Allocation of 19267584 exceeds 10% of free system memory.\n"
     ]
    },
    {
     "name": "stdout",
     "output_type": "stream",
     "text": [
      "  3/688 [..............................] - ETA: 1:08 - loss: 2.3164 - accuracy: 0.0833     "
     ]
    },
    {
     "name": "stderr",
     "output_type": "stream",
     "text": [
      "2025-04-16 18:14:48.705382: W external/local_tsl/tsl/framework/cpu_allocator_impl.cc:83] Allocation of 19267584 exceeds 10% of free system memory.\n",
      "2025-04-16 18:14:48.793782: W external/local_tsl/tsl/framework/cpu_allocator_impl.cc:83] Allocation of 19267584 exceeds 10% of free system memory.\n",
      "2025-04-16 18:14:48.881679: W external/local_tsl/tsl/framework/cpu_allocator_impl.cc:83] Allocation of 19267584 exceeds 10% of free system memory.\n"
     ]
    },
    {
     "name": "stdout",
     "output_type": "stream",
     "text": [
      "688/688 [==============================] - 60s 73ms/step - loss: 0.7016 - accuracy: 0.7449\n",
      "Epoch 2/10\n",
      "688/688 [==============================] - 51s 74ms/step - loss: 0.4015 - accuracy: 0.8550\n",
      "Epoch 3/10\n",
      "688/688 [==============================] - 50s 73ms/step - loss: 0.3054 - accuracy: 0.8935\n",
      "Epoch 4/10\n",
      "688/688 [==============================] - 50s 73ms/step - loss: 0.2486 - accuracy: 0.9179\n",
      "Epoch 5/10\n",
      "688/688 [==============================] - 50s 73ms/step - loss: 0.2016 - accuracy: 0.9310\n",
      "Epoch 6/10\n",
      "688/688 [==============================] - 50s 73ms/step - loss: 0.1600 - accuracy: 0.9542\n",
      "Epoch 7/10\n",
      "688/688 [==============================] - 50s 73ms/step - loss: 0.1384 - accuracy: 0.9622\n",
      "Epoch 8/10\n",
      "688/688 [==============================] - 50s 73ms/step - loss: 0.1097 - accuracy: 0.9738\n",
      "Epoch 9/10\n",
      "688/688 [==============================] - 51s 73ms/step - loss: 0.0996 - accuracy: 0.9753\n",
      "Epoch 10/10\n",
      "688/688 [==============================] - 50s 73ms/step - loss: 0.0806 - accuracy: 0.9840\n"
     ]
    },
    {
     "data": {
      "text/plain": [
       "<keras.src.callbacks.History at 0x7f1c18cca7d0>"
      ]
     },
     "execution_count": 13,
     "metadata": {},
     "output_type": "execute_result"
    }
   ],
   "source": [
    "model.fit(X_train_scaled, Y_train, epochs=10, batch_size=4)"
   ]
  },
  {
   "cell_type": "code",
   "execution_count": 14,
   "id": "82e10746-f7df-4b35-be17-f52bfa760f86",
   "metadata": {},
   "outputs": [
    {
     "name": "stdout",
     "output_type": "stream",
     "text": [
      "29/29 [==============================] - 19s 632ms/step - loss: 0.5566 - accuracy: 0.8181\n"
     ]
    },
    {
     "data": {
      "text/plain": [
       "[0.5566027164459229, 0.8180828094482422]"
      ]
     },
     "execution_count": 14,
     "metadata": {},
     "output_type": "execute_result"
    }
   ],
   "source": [
    "model.evaluate(X_test_scaled,Y_test)"
   ]
  },
  {
   "cell_type": "code",
   "execution_count": null,
   "id": "984a0150-331d-4f15-9c77-ec03b2cdd82c",
   "metadata": {},
   "outputs": [],
   "source": []
  }
 ],
 "metadata": {
  "kernelspec": {
   "display_name": "Python 3 (ipykernel)",
   "language": "python",
   "name": "python3"
  },
  "language_info": {
   "codemirror_mode": {
    "name": "ipython",
    "version": 3
   },
   "file_extension": ".py",
   "mimetype": "text/x-python",
   "name": "python",
   "nbconvert_exporter": "python",
   "pygments_lexer": "ipython3",
   "version": "3.10.12"
  }
 },
 "nbformat": 4,
 "nbformat_minor": 5
}
